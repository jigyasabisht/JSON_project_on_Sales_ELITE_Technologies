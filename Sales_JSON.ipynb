{
  "nbformat": 4,
  "nbformat_minor": 0,
  "metadata": {
    "colab": {
      "name": "Sales_JSON.ipynb",
      "provenance": []
    },
    "kernelspec": {
      "name": "python3",
      "display_name": "Python 3"
    },
    "language_info": {
      "name": "python"
    }
  },
  "cells": [
    {
      "cell_type": "markdown",
      "metadata": {
        "id": "jxEONIK1nBlT"
      },
      "source": [
        "# Read Inventory\n"
      ]
    },
    {
      "cell_type": "code",
      "metadata": {
        "id": "sp5PumR3m-uR"
      },
      "source": [
        "import json\n",
        "\n",
        "fd = open(\"record.json\",'r')\n",
        "r = fd.read()\n",
        "fd.close()"
      ],
      "execution_count": 1,
      "outputs": []
    },
    {
      "cell_type": "code",
      "metadata": {
        "id": "JcotrMf3m-v4"
      },
      "source": [
        "records = json.loads(r)"
      ],
      "execution_count": 2,
      "outputs": []
    },
    {
      "cell_type": "code",
      "metadata": {
        "colab": {
          "base_uri": "https://localhost:8080/"
        },
        "id": "Vgt4qp6Ym-z7",
        "outputId": "ff23188a-2750-4cf4-b6a9-da9f01da21d2"
      },
      "source": [
        "records"
      ],
      "execution_count": 3,
      "outputs": [
        {
          "output_type": "execute_result",
          "data": {
            "text/plain": [
              "{'1001': {'name': 'Choco Cake', 'pr': 100, 'qn': 34},\n",
              " '1003': {'name': 'Drink', 'pr': 85, 'qn': 100},\n",
              " '1004': {'name': 'Candy', 'pr': 5, 'qn': 1000},\n",
              " '1005': {'name': 'Pen', 'pr': 20, 'qn': 100},\n",
              " '1006': {'name': 'Phone', 'pr': 50002, 'qn': 8},\n",
              " '1007': {'name': 'Mic', 'pr': 1500, 'qn': 0},\n",
              " '1008': {'name': 'Case', 'pr': 599, 'qn': 5},\n",
              " '1009': {'name': 'Keyboard', 'pr': 1999, 'qn': 10},\n",
              " '1010': {'name': 'Mouse', 'pr': 1200, 'qn': 8},\n",
              " '1011': {'name': 'Pendrive', 'pr': 700, 'qn': 15},\n",
              " '1012': {'name': 'Pencil', 'pr': 20, 'qn': 50},\n",
              " '1013': {'name': 'Water Bottle', 'pr': 100, 'qn': 30},\n",
              " '1014': {'name': 'Notebook', 'pr': 59, 'qn': 70},\n",
              " '1015': {'name': 'Fan', 'pr': 1500, 'qn': 49},\n",
              " '1016': {'name': 'Pillow', 'pr': 300, 'qn': 29},\n",
              " '1017': {'name': 'Table', 'pr': 1000, 'qn': 100},\n",
              " '1018': {'name': 'Towel', 'pr': 699, 'qn': 110},\n",
              " '1019': {'name': 'Laptop', 'pr': 64000, 'qn': 25},\n",
              " '1020': {'name': 'Speaker', 'pr': 2500, 'qn': 10},\n",
              " '1021': {'name': 'Chair', 'pr': 700, 'qn': 200},\n",
              " '1022': {'name': 'Earphones', 'pr': 599, 'qn': 225},\n",
              " '1023': {'name': 'Bucket', 'pr': 499, 'qn': 39},\n",
              " '1024': {'name': 'Mattress', 'pr': 1300, 'qn': 5},\n",
              " '1025': {'name': 'Adapter', 'pr': 499, 'qn': 50},\n",
              " '1026': {'name': 'Pateries', 'pr': 50, 'qn': 10},\n",
              " '1027': {'name': 'Cricket Bat', 'pr': 5000, 'qn': 2},\n",
              " '1028': {'name': 'Cricket Ball', 'pr': 399, 'qn': 11},\n",
              " '1029': {'name': 'Racket', 'pr': 1100, 'qn': 25},\n",
              " '1030': {'name': 'Football', 'pr': 2000, 'qn': 10}}"
            ]
          },
          "metadata": {},
          "execution_count": 3
        }
      ]
    },
    {
      "cell_type": "markdown",
      "metadata": {
        "id": "eBpRVp5BpyIn"
      },
      "source": [
        "# Sales JSON"
      ]
    },
    {
      "cell_type": "code",
      "metadata": {
        "colab": {
          "base_uri": "https://localhost:8080/"
        },
        "id": "WXgKJKbCploN",
        "outputId": "876c33b8-0710-4f52-b8b0-21e4a651c4a5"
      },
      "source": [
        "for i in range(5):\n",
        "  ui_prod  = str(input(\"Enter the product_Id: \"))\n",
        "  ui_quant = int(input(\"Enter the quantity: \"))\n",
        "\n",
        "\n",
        "  print(\"Product: \", records[ui_prod]['name'])\n",
        "  print(\"Price: \", records[ui_prod]['pr'])\n",
        "  print(\"Billing Amount: \", records[ui_prod]['pr'] * ui_quant)\n",
        "\n",
        "  records[ui_prod]['qn'] = records[ui_prod]['qn'] - ui_quant"
      ],
      "execution_count": 11,
      "outputs": [
        {
          "output_type": "stream",
          "name": "stdout",
          "text": [
            "Enter the product_Id: 1015\n",
            "Enter the quantity: 1\n",
            "Product:  Fan\n",
            "Price:  1500\n",
            "Billing Amount:  1500\n",
            "Enter the product_Id: 1020\n",
            "Enter the quantity: 3\n",
            "Product:  Speaker\n",
            "Price:  2500\n",
            "Billing Amount:  7500\n",
            "Enter the product_Id: 1001\n",
            "Enter the quantity: 5\n",
            "Product:  Choco Cake\n",
            "Price:  100\n",
            "Billing Amount:  500\n",
            "Enter the product_Id: 1025\n",
            "Enter the quantity: 4\n",
            "Product:  Adapter\n",
            "Price:  499\n",
            "Billing Amount:  1996\n",
            "Enter the product_Id: 1029\n",
            "Enter the quantity: 15\n",
            "Product:  Racket\n",
            "Price:  1100\n",
            "Billing Amount:  16500\n"
          ]
        }
      ]
    },
    {
      "cell_type": "code",
      "metadata": {
        "colab": {
          "base_uri": "https://localhost:8080/"
        },
        "id": "AX_TyFe9plqH",
        "outputId": "860fb9db-1992-4ac9-908d-b6fa9545acca"
      },
      "source": [
        "{'prod' : ui_prod, 'qn' : ui_quant, 'amount': records[ui_prod]['pr'] * ui_quant}"
      ],
      "execution_count": 12,
      "outputs": [
        {
          "output_type": "execute_result",
          "data": {
            "text/plain": [
              "{'amount': 16500, 'prod': '1029', 'qn': 15}"
            ]
          },
          "metadata": {},
          "execution_count": 12
        }
      ]
    },
    {
      "cell_type": "code",
      "metadata": {
        "id": "oKZoh2IJplt_"
      },
      "source": [
        "sales = {1 : {'prod' : ui_prod, 'qn' : ui_quant, 'amount': records[ui_prod]['pr'] * ui_quant},\n",
        "         2 : {'prod' : ui_prod, 'qn' : ui_quant, 'amount': records[ui_prod]['pr'] * ui_quant},\n",
        "         3 : {'prod' : ui_prod, 'qn' : ui_quant, 'amount': records[ui_prod]['pr'] * ui_quant},\n",
        "         4 : {'prod' : ui_prod, 'qn' : ui_quant, 'amount': records[ui_prod]['pr'] * ui_quant},\n",
        "         5 : {'prod' : ui_prod, 'qn' : ui_quant, 'amount': records[ui_prod]['pr'] * ui_quant},\n",
        "         6 : {'prod' : ui_prod, 'qn' : ui_quant, 'amount': records[ui_prod]['pr'] * ui_quant},\n",
        "         7 : {'prod' : ui_prod, 'qn' : ui_quant, 'amount': records[ui_prod]['pr'] * ui_quant},\n",
        "         8 : {'prod' : ui_prod, 'qn' : ui_quant, 'amount': records[ui_prod]['pr'] * ui_quant},\n",
        "         9 : {'prod' : ui_prod, 'qn' : ui_quant, 'amount': records[ui_prod]['pr'] * ui_quant},\n",
        "         10 : {'prod' : ui_prod, 'qn' : ui_quant, 'amount': records[ui_prod]['pr'] * ui_quant}}"
      ],
      "execution_count": 13,
      "outputs": []
    },
    {
      "cell_type": "code",
      "metadata": {
        "id": "dm6tLYNbqW7X"
      },
      "source": [
        "sale = json.dumps(sales)"
      ],
      "execution_count": 14,
      "outputs": []
    },
    {
      "cell_type": "code",
      "metadata": {
        "colab": {
          "base_uri": "https://localhost:8080/",
          "height": 86
        },
        "id": "m0cuDNPgqeHO",
        "outputId": "72b9312f-9abe-46e5-d51b-1077620e8806"
      },
      "source": [
        "sale"
      ],
      "execution_count": 15,
      "outputs": [
        {
          "output_type": "execute_result",
          "data": {
            "application/vnd.google.colaboratory.intrinsic+json": {
              "type": "string"
            },
            "text/plain": [
              "'{\"1\": {\"prod\": \"1029\", \"qn\": 15, \"amount\": 16500}, \"2\": {\"prod\": \"1029\", \"qn\": 15, \"amount\": 16500}, \"3\": {\"prod\": \"1029\", \"qn\": 15, \"amount\": 16500}, \"4\": {\"prod\": \"1029\", \"qn\": 15, \"amount\": 16500}, \"5\": {\"prod\": \"1029\", \"qn\": 15, \"amount\": 16500}, \"6\": {\"prod\": \"1029\", \"qn\": 15, \"amount\": 16500}, \"7\": {\"prod\": \"1029\", \"qn\": 15, \"amount\": 16500}, \"8\": {\"prod\": \"1029\", \"qn\": 15, \"amount\": 16500}, \"9\": {\"prod\": \"1029\", \"qn\": 15, \"amount\": 16500}, \"10\": {\"prod\": \"1029\", \"qn\": 15, \"amount\": 16500}}'"
            ]
          },
          "metadata": {},
          "execution_count": 15
        }
      ]
    },
    {
      "cell_type": "markdown",
      "metadata": {
        "id": "67WOhcl0rsE1"
      },
      "source": [
        "## Updating the Inventory after Sales"
      ]
    },
    {
      "cell_type": "code",
      "metadata": {
        "id": "Xsblr2AmrmQW"
      },
      "source": [
        "js = json.dumps(records)\n",
        "\n",
        "fd = open(\"record.json\",'w')\n",
        "fd.write(js)\n",
        "fd.close()"
      ],
      "execution_count": 16,
      "outputs": []
    },
    {
      "cell_type": "code",
      "metadata": {
        "id": "Re8yS2AIrmcW"
      },
      "source": [
        ""
      ],
      "execution_count": null,
      "outputs": []
    }
  ]
}