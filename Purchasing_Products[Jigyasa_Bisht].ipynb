{
  "nbformat": 4,
  "nbformat_minor": 0,
  "metadata": {
    "colab": {
      "name": "Purchasing_Products[Jigyasa Bisht].ipynb",
      "provenance": []
    },
    "kernelspec": {
      "name": "python3",
      "display_name": "Python 3"
    },
    "language_info": {
      "name": "python"
    }
  },
  "cells": [
    {
      "cell_type": "markdown",
      "metadata": {
        "id": "bk2YA0Kbp20d"
      },
      "source": [
        "# Read Inventory"
      ]
    },
    {
      "cell_type": "code",
      "metadata": {
        "id": "Wzko_q6qp0mC"
      },
      "source": [
        "import json\n",
        "\n",
        "fd = open(\"record.json\",'r')\n",
        "r = fd.read()\n",
        "fd.close()"
      ],
      "execution_count": 11,
      "outputs": []
    },
    {
      "cell_type": "code",
      "metadata": {
        "id": "eDzcoTtQqAYt"
      },
      "source": [
        "records = json.loads(r)"
      ],
      "execution_count": 12,
      "outputs": []
    },
    {
      "cell_type": "code",
      "metadata": {
        "id": "n0bu84-8qAah",
        "colab": {
          "base_uri": "https://localhost:8080/"
        },
        "outputId": "ef53fafd-6e1a-40de-c615-7646e2b40936"
      },
      "source": [
        "records"
      ],
      "execution_count": 13,
      "outputs": [
        {
          "output_type": "execute_result",
          "data": {
            "text/plain": [
              "{'1001': {'name': 'Choco Cake', 'pr': 100, 'qn': 34},\n",
              " '1003': {'name': 'Drink', 'pr': 85, 'qn': 100},\n",
              " '1004': {'name': 'Candy', 'pr': 5, 'qn': 1000},\n",
              " '1005': {'name': 'Pen', 'pr': 20, 'qn': 100},\n",
              " '1006': {'name': 'Phone', 'pr': 50002, 'qn': 10},\n",
              " '1007': {'name': 'Mic', 'pr': 1500, 'qn': 0},\n",
              " '1008': {'name': 'Case', 'pr': 599, 'qn': 5},\n",
              " '1009': {'name': 'Keyboard', 'pr': 1999, 'qn': 10},\n",
              " '1010': {'name': 'Mouse', 'pr': 1200, 'qn': 8},\n",
              " '1011': {'name': 'Pendrive', 'pr': 700, 'qn': 15},\n",
              " '1012': {'name': 'Pencil', 'pr': 20, 'qn': 50},\n",
              " '1013': {'name': 'Water Bottle', 'pr': 100, 'qn': 30},\n",
              " '1014': {'name': 'Notebook', 'pr': 59, 'qn': 70},\n",
              " '1015': {'name': 'Fan', 'pr': 1500, 'qn': 49},\n",
              " '1016': {'name': 'Pillow', 'pr': 300, 'qn': 29},\n",
              " '1017': {'name': 'Table', 'pr': 1000, 'qn': 100},\n",
              " '1018': {'name': 'Towel', 'pr': 699, 'qn': 110},\n",
              " '1019': {'name': 'Laptop', 'pr': 64000, 'qn': 25},\n",
              " '1020': {'name': 'Speaker', 'pr': 2500, 'qn': 10},\n",
              " '1021': {'name': 'Chair', 'pr': 700, 'qn': 200},\n",
              " '1022': {'name': 'Earphones', 'pr': 599, 'qn': 225},\n",
              " '1023': {'name': 'Bucket', 'pr': 499, 'qn': 39},\n",
              " '1024': {'name': 'Mattress', 'pr': 1300, 'qn': 5},\n",
              " '1025': {'name': 'Adapter', 'pr': 499, 'qn': 50},\n",
              " '1026': {'name': 'Pateries', 'pr': 50, 'qn': 10},\n",
              " '1027': {'name': 'Cricket Bat', 'pr': 5000, 'qn': 2},\n",
              " '1028': {'name': 'Cricket Ball', 'pr': 399, 'qn': 11},\n",
              " '1029': {'name': 'Racket', 'pr': 1100, 'qn': 25},\n",
              " '1030': {'name': 'Football', 'pr': 2000, 'qn': 10}}"
            ]
          },
          "metadata": {},
          "execution_count": 13
        }
      ]
    },
    {
      "cell_type": "markdown",
      "metadata": {
        "id": "JGAMe01Q43mm"
      },
      "source": [
        "# Purchase"
      ]
    },
    {
      "cell_type": "code",
      "metadata": {
        "colab": {
          "base_uri": "https://localhost:8080/"
        },
        "id": "vEabHNp348AO",
        "outputId": "6ba02fc7-50cc-49e6-c80a-06c920ba2894"
      },
      "source": [
        "ui_prod  = str(input(\"Enter the product_Id: \"))\n",
        "ui_quant = int(input(\"Enter the quantity: \"))\n",
        "\n",
        "\n",
        "print(\"Product: \", records[ui_prod]['name'])\n",
        "print(\"Price: \", records[ui_prod]['pr'])\n",
        "print(\"Billing Amount: \", records[ui_prod]['pr'] * ui_quant)\n",
        "\n",
        "records[ui_prod]['qn'] = records[ui_prod]['qn'] - ui_quant"
      ],
      "execution_count": 14,
      "outputs": [
        {
          "output_type": "stream",
          "name": "stdout",
          "text": [
            "Enter the product_Id: 1006\n",
            "Enter the quantity: 2\n",
            "Product:  Phone\n",
            "Price:  50002\n",
            "Billing Amount:  100004\n"
          ]
        }
      ]
    },
    {
      "cell_type": "markdown",
      "metadata": {
        "id": "_cv4ElA45GoB"
      },
      "source": [
        "## Update the inventory after purchase"
      ]
    },
    {
      "cell_type": "code",
      "metadata": {
        "id": "-dBADUQe48QV"
      },
      "source": [
        "js = json.dumps(records)\n",
        "\n",
        "fd = open(\"record.json\",'w')\n",
        "fd.write(js)\n",
        "fd.close()"
      ],
      "execution_count": 15,
      "outputs": []
    },
    {
      "cell_type": "code",
      "metadata": {
        "id": "hkm5rL8-48bi"
      },
      "source": [
        ""
      ],
      "execution_count": null,
      "outputs": []
    }
  ]
}