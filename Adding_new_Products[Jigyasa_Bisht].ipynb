{
  "nbformat": 4,
  "nbformat_minor": 0,
  "metadata": {
    "colab": {
      "name": "Adding_new_Products[Jigyasa Bisht].ipynb",
      "provenance": [],
      "collapsed_sections": []
    },
    "kernelspec": {
      "name": "python3",
      "display_name": "Python 3"
    },
    "language_info": {
      "name": "python"
    }
  },
  "cells": [
    {
      "cell_type": "markdown",
      "metadata": {
        "id": "NM0a_Q6cmd4G"
      },
      "source": [
        "# Reading the JSON File"
      ]
    },
    {
      "cell_type": "code",
      "metadata": {
        "id": "dTXtl91YnZXQ"
      },
      "source": [
        "import json"
      ],
      "execution_count": 6,
      "outputs": []
    },
    {
      "cell_type": "code",
      "metadata": {
        "id": "hSS3vx8Xmzb9"
      },
      "source": [
        "fd = open(\"record.json\",'r')\n",
        "r = fd.read()\n",
        "fd.close()\n",
        "\n",
        "record = json.loads(r)"
      ],
      "execution_count": 7,
      "outputs": []
    },
    {
      "cell_type": "code",
      "metadata": {
        "colab": {
          "base_uri": "https://localhost:8080/"
        },
        "id": "pylZDy_FmznC",
        "outputId": "74940703-b8df-49e3-eafc-51aede205e2a"
      },
      "source": [
        "record"
      ],
      "execution_count": 8,
      "outputs": [
        {
          "output_type": "execute_result",
          "data": {
            "text/plain": [
              "{'1001': {'name': 'Choco Cake', 'pr': 100, 'qn': 34},\n",
              " '1002': {'name': 'Milk Cake', 'pr': 800, 'qn': 100},\n",
              " '1003': {'name': 'Drink', 'pr': 85, 'qn': 100},\n",
              " '1004': {'name': 'Candy', 'pr': 5, 'qn': 1000},\n",
              " '1005': {'name': 'Pen', 'pr': 20, 'qn': 100},\n",
              " '1006': {'name': 'Phone', 'pr': 50000, 'qn': 10},\n",
              " '1007': {'name': 'Mic', 'pr': 1500, 'qn': 0},\n",
              " '1008': {'name': 'Case', 'pr': 599, 'qn': 5},\n",
              " '1009': {'name': 'Keyboard', 'pr': 1999, 'qn': 10},\n",
              " '1010': {'name': 'Mouse', 'pr': 1200, 'qn': 5}}"
            ]
          },
          "metadata": {},
          "execution_count": 8
        }
      ]
    },
    {
      "cell_type": "markdown",
      "metadata": {
        "id": "qSrbVPRhn7zS"
      },
      "source": [
        "# Adding new item to the inventory"
      ]
    },
    {
      "cell_type": "code",
      "metadata": {
        "colab": {
          "base_uri": "https://localhost:8080/"
        },
        "id": "sPSF1z00oDMK",
        "outputId": "d4e67ed3-2d75-48cc-ca1e-5aeb9b252b46"
      },
      "source": [
        "for i in range (10):\n",
        "  prod_id = str(input(\"Enter product id:\"))\n",
        "  name = str(input(\"Enter name:\"))\n",
        "  pr = int(input(\"Enter price:\"))\n",
        "  qn = int(input(\"Enter quantity:\"))\n",
        "\n",
        "  record[prod_id] = {'name': name, 'pr': pr, 'qn': qn}\n",
        "\n",
        "  js = json.dumps(record)\n",
        "\n",
        "  fd = open(\"record.json\",'w')\n",
        "  fd.write(js)\n",
        "  fd.close()"
      ],
      "execution_count": 9,
      "outputs": [
        {
          "name": "stdout",
          "output_type": "stream",
          "text": [
            "Enter product id:1011\n",
            "Enter name:Pendrive\n",
            "Enter price:700\n",
            "Enter quantity:15\n",
            "Enter product id:1012\n",
            "Enter name:Pencil\n",
            "Enter price:20\n",
            "Enter quantity:50\n",
            "Enter product id:1013\n",
            "Enter name:Water Bottle\n",
            "Enter price:100\n",
            "Enter quantity:30\n",
            "Enter product id:1014\n",
            "Enter name:Notebook\n",
            "Enter price:59\n",
            "Enter quantity:70\n",
            "Enter product id:1015\n",
            "Enter name:Fan\n",
            "Enter price:1500\n",
            "Enter quantity:49\n",
            "Enter product id:1016\n",
            "Enter name:Pillow\n",
            "Enter price:300\n",
            "Enter quantity:29\n",
            "Enter product id:1017\n",
            "Enter name:Table\n",
            "Enter price:1000\n",
            "Enter quantity:100\n",
            "Enter product id:1018\n",
            "Enter name:Towel\n",
            "Enter price:699\n",
            "Enter quantity:110\n",
            "Enter product id:1019\n",
            "Enter name:Laptop\n",
            "Enter price:64000\n",
            "Enter quantity:25\n",
            "Enter product id:1020\n",
            "Enter name:Speaker\n",
            "Enter price:2500\n",
            "Enter quantity:10\n"
          ]
        }
      ]
    },
    {
      "cell_type": "code",
      "metadata": {
        "colab": {
          "base_uri": "https://localhost:8080/"
        },
        "id": "YwgXbAHKjzb0",
        "outputId": "45933bd9-1231-4eb6-81a4-c876a36172e9"
      },
      "source": [
        "for i in range (10):\n",
        "  prod_id = str(input(\"Enter product id:\"))\n",
        "  name = str(input(\"Enter name:\"))\n",
        "  pr = int(input(\"Enter price:\"))\n",
        "  qn = int(input(\"Enter quantity:\"))\n",
        "\n",
        "  record[prod_id] = {'name': name, 'pr': pr, 'qn': qn}\n",
        "\n",
        "  js = json.dumps(record)\n",
        "\n",
        "  fd = open(\"record.json\",'w')\n",
        "  fd.write(js)\n",
        "  fd.close()"
      ],
      "execution_count": 11,
      "outputs": [
        {
          "name": "stdout",
          "output_type": "stream",
          "text": [
            "Enter product id:1021\n",
            "Enter name:Chair\n",
            "Enter price:700\n",
            "Enter quantity:200\n",
            "Enter product id:1022\n",
            "Enter name:Earphones\n",
            "Enter price:599\n",
            "Enter quantity:225\n",
            "Enter product id:1023\n",
            "Enter name:Bucket\n",
            "Enter price:499\n",
            "Enter quantity:39\n",
            "Enter product id:1024\n",
            "Enter name:Mattress\n",
            "Enter price:1300\n",
            "Enter quantity:5\n",
            "Enter product id:1025\n",
            "Enter name:Adapter\n",
            "Enter price:499\n",
            "Enter quantity:50\n",
            "Enter product id:1026\n",
            "Enter name:Pateries\n",
            "Enter price:50\n",
            "Enter quantity:10\n",
            "Enter product id:1027\n",
            "Enter name:Cricket Bat\n",
            "Enter price:5000\n",
            "Enter quantity:2\n",
            "Enter product id:1028\n",
            "Enter name:Cricket Ball\n",
            "Enter price:399\n",
            "Enter quantity:11\n",
            "Enter product id:1029\n",
            "Enter name:Racket\n",
            "Enter price:1100\n",
            "Enter quantity:25\n",
            "Enter product id:1030\n",
            "Enter name:Football\n",
            "Enter price:2000\n",
            "Enter quantity:10\n"
          ]
        }
      ]
    },
    {
      "cell_type": "code",
      "metadata": {
        "colab": {
          "base_uri": "https://localhost:8080/"
        },
        "id": "8FwjYF-9k4yk",
        "outputId": "625f050f-d591-476d-8fd4-990d31ac510a"
      },
      "source": [
        "record"
      ],
      "execution_count": 12,
      "outputs": [
        {
          "output_type": "execute_result",
          "data": {
            "text/plain": [
              "{'1001': {'name': 'Choco Cake', 'pr': 100, 'qn': 34},\n",
              " '1002': {'name': 'Milk Cake', 'pr': 800, 'qn': 100},\n",
              " '1003': {'name': 'Drink', 'pr': 85, 'qn': 100},\n",
              " '1004': {'name': 'Candy', 'pr': 5, 'qn': 1000},\n",
              " '1005': {'name': 'Pen', 'pr': 20, 'qn': 100},\n",
              " '1006': {'name': 'Phone', 'pr': 50000, 'qn': 10},\n",
              " '1007': {'name': 'Mic', 'pr': 1500, 'qn': 0},\n",
              " '1008': {'name': 'Case', 'pr': 599, 'qn': 5},\n",
              " '1009': {'name': 'Keyboard', 'pr': 1999, 'qn': 10},\n",
              " '1010': {'name': 'Mouse', 'pr': 1200, 'qn': 5},\n",
              " '1011': {'name': 'Pendrive', 'pr': 700, 'qn': 15},\n",
              " '1012': {'name': 'Pencil', 'pr': 20, 'qn': 50},\n",
              " '1013': {'name': 'Water Bottle', 'pr': 100, 'qn': 30},\n",
              " '1014': {'name': 'Notebook', 'pr': 59, 'qn': 70},\n",
              " '1015': {'name': 'Fan', 'pr': 1500, 'qn': 49},\n",
              " '1016': {'name': 'Pillow', 'pr': 300, 'qn': 29},\n",
              " '1017': {'name': 'Table', 'pr': 1000, 'qn': 100},\n",
              " '1018': {'name': 'Towel', 'pr': 699, 'qn': 110},\n",
              " '1019': {'name': 'Laptop', 'pr': 64000, 'qn': 25},\n",
              " '1020': {'name': 'Speaker', 'pr': 2500, 'qn': 10},\n",
              " '1021': {'name': 'Chair', 'pr': 700, 'qn': 200},\n",
              " '1022': {'name': 'Earphones', 'pr': 599, 'qn': 225},\n",
              " '1023': {'name': 'Bucket', 'pr': 499, 'qn': 39},\n",
              " '1024': {'name': 'Mattress', 'pr': 1300, 'qn': 5},\n",
              " '1025': {'name': 'Adapter', 'pr': 499, 'qn': 50},\n",
              " '1026': {'name': 'Pateries', 'pr': 50, 'qn': 10},\n",
              " '1027': {'name': 'Cricket Bat', 'pr': 5000, 'qn': 2},\n",
              " '1028': {'name': 'Cricket Ball', 'pr': 399, 'qn': 11},\n",
              " '1029': {'name': 'Racket', 'pr': 1100, 'qn': 25},\n",
              " '1030': {'name': 'Football', 'pr': 2000, 'qn': 10}}"
            ]
          },
          "metadata": {},
          "execution_count": 12
        }
      ]
    },
    {
      "cell_type": "markdown",
      "metadata": {
        "id": "Utcboxoeo4-t"
      },
      "source": [
        "### Now we have to increase the price and quantiy of our products"
      ]
    },
    {
      "cell_type": "code",
      "metadata": {
        "colab": {
          "base_uri": "https://localhost:8080/"
        },
        "id": "TWGq5OzVo3HV",
        "outputId": "af292bba-4b8d-4826-b636-94205e5c2685"
      },
      "source": [
        "# Updating the quantity of mouse\n",
        "\n",
        "ui_prod  = str(input(\"Enter the product_Id: \"))\n",
        "ui_quant = int(input(\"Enter the quantity: \"))\n",
        "\n",
        "\n",
        "print(\"Product: \", record[ui_prod]['name'])\n",
        "print(\"Price: \", record[ui_prod]['pr'])"
      ],
      "execution_count": 13,
      "outputs": [
        {
          "output_type": "stream",
          "name": "stdout",
          "text": [
            "Enter the product_Id: 1010\n",
            "Enter the quantity: 3\n",
            "Product:  Mouse\n",
            "Price:  1200\n"
          ]
        }
      ]
    },
    {
      "cell_type": "code",
      "metadata": {
        "id": "3lpsG4NcJWGe"
      },
      "source": [
        "record[ui_prod]['qn'] = record[ui_prod]['qn'] + ui_quant"
      ],
      "execution_count": 14,
      "outputs": []
    },
    {
      "cell_type": "code",
      "metadata": {
        "colab": {
          "base_uri": "https://localhost:8080/"
        },
        "id": "_5pNJrZgLNQD",
        "outputId": "f54c9176-dab3-4822-aff2-a4a4b806721d"
      },
      "source": [
        "# Updating the price of Phone\n",
        "\n",
        "ui_prod  = str(input(\"Enter the product_Id: \"))\n",
        "ui_price = int(input(\"Enter the Price: \"))\n",
        "\n",
        "\n",
        "print(\"Product: \", record[ui_prod]['name'])\n",
        "print(\"Qunatity: \", record[ui_prod]['qn'])"
      ],
      "execution_count": 15,
      "outputs": [
        {
          "output_type": "stream",
          "name": "stdout",
          "text": [
            "Enter the product_Id: 1006\n",
            "Enter the Price: 2\n",
            "Product:  Phone\n",
            "Qunatity:  10\n"
          ]
        }
      ]
    },
    {
      "cell_type": "code",
      "metadata": {
        "id": "Gh2k1sMHSFJx"
      },
      "source": [
        "record[ui_prod]['pr'] = record[ui_prod]['pr'] + ui_price"
      ],
      "execution_count": 16,
      "outputs": []
    },
    {
      "cell_type": "code",
      "metadata": {
        "colab": {
          "base_uri": "https://localhost:8080/"
        },
        "id": "HJ7CPCcov-OW",
        "outputId": "d9c6e84f-be20-4918-c818-0ec441f0bd3b"
      },
      "source": [
        "# Updated values in record\n",
        "record"
      ],
      "execution_count": 17,
      "outputs": [
        {
          "output_type": "execute_result",
          "data": {
            "text/plain": [
              "{'1001': {'name': 'Choco Cake', 'pr': 100, 'qn': 34},\n",
              " '1002': {'name': 'Milk Cake', 'pr': 800, 'qn': 100},\n",
              " '1003': {'name': 'Drink', 'pr': 85, 'qn': 100},\n",
              " '1004': {'name': 'Candy', 'pr': 5, 'qn': 1000},\n",
              " '1005': {'name': 'Pen', 'pr': 20, 'qn': 100},\n",
              " '1006': {'name': 'Phone', 'pr': 50002, 'qn': 10},\n",
              " '1007': {'name': 'Mic', 'pr': 1500, 'qn': 0},\n",
              " '1008': {'name': 'Case', 'pr': 599, 'qn': 5},\n",
              " '1009': {'name': 'Keyboard', 'pr': 1999, 'qn': 10},\n",
              " '1010': {'name': 'Mouse', 'pr': 1200, 'qn': 8},\n",
              " '1011': {'name': 'Pendrive', 'pr': 700, 'qn': 15},\n",
              " '1012': {'name': 'Pencil', 'pr': 20, 'qn': 50},\n",
              " '1013': {'name': 'Water Bottle', 'pr': 100, 'qn': 30},\n",
              " '1014': {'name': 'Notebook', 'pr': 59, 'qn': 70},\n",
              " '1015': {'name': 'Fan', 'pr': 1500, 'qn': 49},\n",
              " '1016': {'name': 'Pillow', 'pr': 300, 'qn': 29},\n",
              " '1017': {'name': 'Table', 'pr': 1000, 'qn': 100},\n",
              " '1018': {'name': 'Towel', 'pr': 699, 'qn': 110},\n",
              " '1019': {'name': 'Laptop', 'pr': 64000, 'qn': 25},\n",
              " '1020': {'name': 'Speaker', 'pr': 2500, 'qn': 10},\n",
              " '1021': {'name': 'Chair', 'pr': 700, 'qn': 200},\n",
              " '1022': {'name': 'Earphones', 'pr': 599, 'qn': 225},\n",
              " '1023': {'name': 'Bucket', 'pr': 499, 'qn': 39},\n",
              " '1024': {'name': 'Mattress', 'pr': 1300, 'qn': 5},\n",
              " '1025': {'name': 'Adapter', 'pr': 499, 'qn': 50},\n",
              " '1026': {'name': 'Pateries', 'pr': 50, 'qn': 10},\n",
              " '1027': {'name': 'Cricket Bat', 'pr': 5000, 'qn': 2},\n",
              " '1028': {'name': 'Cricket Ball', 'pr': 399, 'qn': 11},\n",
              " '1029': {'name': 'Racket', 'pr': 1100, 'qn': 25},\n",
              " '1030': {'name': 'Football', 'pr': 2000, 'qn': 10}}"
            ]
          },
          "metadata": {},
          "execution_count": 17
        }
      ]
    },
    {
      "cell_type": "code",
      "metadata": {
        "id": "rJFkurh4MaP-"
      },
      "source": [
        "# Deleting the product"
      ],
      "execution_count": 18,
      "outputs": []
    },
    {
      "cell_type": "code",
      "metadata": {
        "id": "Da4qrklfMaSk"
      },
      "source": [
        "del record['1002']"
      ],
      "execution_count": 19,
      "outputs": []
    },
    {
      "cell_type": "code",
      "metadata": {
        "colab": {
          "base_uri": "https://localhost:8080/"
        },
        "id": "bJgqDnY0Mtc1",
        "outputId": "33e6a8b4-92f0-44c9-b92d-bbfc8a877b6f"
      },
      "source": [
        "record"
      ],
      "execution_count": 20,
      "outputs": [
        {
          "output_type": "execute_result",
          "data": {
            "text/plain": [
              "{'1001': {'name': 'Choco Cake', 'pr': 100, 'qn': 34},\n",
              " '1003': {'name': 'Drink', 'pr': 85, 'qn': 100},\n",
              " '1004': {'name': 'Candy', 'pr': 5, 'qn': 1000},\n",
              " '1005': {'name': 'Pen', 'pr': 20, 'qn': 100},\n",
              " '1006': {'name': 'Phone', 'pr': 50002, 'qn': 10},\n",
              " '1007': {'name': 'Mic', 'pr': 1500, 'qn': 0},\n",
              " '1008': {'name': 'Case', 'pr': 599, 'qn': 5},\n",
              " '1009': {'name': 'Keyboard', 'pr': 1999, 'qn': 10},\n",
              " '1010': {'name': 'Mouse', 'pr': 1200, 'qn': 8},\n",
              " '1011': {'name': 'Pendrive', 'pr': 700, 'qn': 15},\n",
              " '1012': {'name': 'Pencil', 'pr': 20, 'qn': 50},\n",
              " '1013': {'name': 'Water Bottle', 'pr': 100, 'qn': 30},\n",
              " '1014': {'name': 'Notebook', 'pr': 59, 'qn': 70},\n",
              " '1015': {'name': 'Fan', 'pr': 1500, 'qn': 49},\n",
              " '1016': {'name': 'Pillow', 'pr': 300, 'qn': 29},\n",
              " '1017': {'name': 'Table', 'pr': 1000, 'qn': 100},\n",
              " '1018': {'name': 'Towel', 'pr': 699, 'qn': 110},\n",
              " '1019': {'name': 'Laptop', 'pr': 64000, 'qn': 25},\n",
              " '1020': {'name': 'Speaker', 'pr': 2500, 'qn': 10},\n",
              " '1021': {'name': 'Chair', 'pr': 700, 'qn': 200},\n",
              " '1022': {'name': 'Earphones', 'pr': 599, 'qn': 225},\n",
              " '1023': {'name': 'Bucket', 'pr': 499, 'qn': 39},\n",
              " '1024': {'name': 'Mattress', 'pr': 1300, 'qn': 5},\n",
              " '1025': {'name': 'Adapter', 'pr': 499, 'qn': 50},\n",
              " '1026': {'name': 'Pateries', 'pr': 50, 'qn': 10},\n",
              " '1027': {'name': 'Cricket Bat', 'pr': 5000, 'qn': 2},\n",
              " '1028': {'name': 'Cricket Ball', 'pr': 399, 'qn': 11},\n",
              " '1029': {'name': 'Racket', 'pr': 1100, 'qn': 25},\n",
              " '1030': {'name': 'Football', 'pr': 2000, 'qn': 10}}"
            ]
          },
          "metadata": {},
          "execution_count": 20
        }
      ]
    },
    {
      "cell_type": "code",
      "metadata": {
        "id": "xjNh8vvNMtnM"
      },
      "source": [
        "# Final updated record, \n",
        "# Now we will use this record for purchasing products"
      ],
      "execution_count": 21,
      "outputs": []
    },
    {
      "cell_type": "code",
      "metadata": {
        "id": "I0Aq6Ly5Nxir"
      },
      "source": [
        "js = json.dumps(record)\n",
        "\n",
        "fd = open(\"record.json\",'w')\n",
        "fd.write(js)\n",
        "fd.close()"
      ],
      "execution_count": 23,
      "outputs": []
    }
  ]
}