{
  "nbformat": 4,
  "nbformat_minor": 0,
  "metadata": {
    "colab": {
      "name": "Adding_new_Products[Jigyasa Bisht].ipynb",
      "provenance": []
    },
    "kernelspec": {
      "name": "python3",
      "display_name": "Python 3"
    },
    "language_info": {
      "name": "python"
    }
  },
  "cells": [
    {
      "cell_type": "markdown",
      "metadata": {
        "id": "NM0a_Q6cmd4G"
      },
      "source": [
        "# Reading the JSON File"
      ]
    },
    {
      "cell_type": "code",
      "metadata": {
        "id": "dTXtl91YnZXQ"
      },
      "source": [
        "import json"
      ],
      "execution_count": 21,
      "outputs": []
    },
    {
      "cell_type": "code",
      "metadata": {
        "id": "hSS3vx8Xmzb9"
      },
      "source": [
        "fd = open(\"record.json\",'r')\n",
        "r = fd.read()\n",
        "fd.close()\n",
        "\n",
        "record = json.loads(r)"
      ],
      "execution_count": 22,
      "outputs": []
    },
    {
      "cell_type": "code",
      "metadata": {
        "colab": {
          "base_uri": "https://localhost:8080/"
        },
        "id": "pylZDy_FmznC",
        "outputId": "302749f9-9755-4b83-cc91-157337383e80"
      },
      "source": [
        "record"
      ],
      "execution_count": 23,
      "outputs": [
        {
          "output_type": "execute_result",
          "data": {
            "text/plain": [
              "{'1001': {'name': 'Choco Cake', 'pr': 100, 'qn': 34},\n",
              " '1002': {'name': 'Milk Cake', 'pr': 800, 'qn': 100},\n",
              " '1003': {'name': 'Drink', 'pr': 85, 'qn': 100},\n",
              " '1004': {'name': 'Candy', 'pr': 5, 'qn': 1000},\n",
              " '1005': {'name': 'Pen', 'pr': 20, 'qn': 100},\n",
              " '1006': {'name': 'Phone', 'pr': 50000, 'qn': 10},\n",
              " '1007': {'name': 'Mic', 'pr': 1500, 'qn': 0},\n",
              " '1008': {'name': 'Case', 'pr': 599, 'qn': 5},\n",
              " '1009': {'name': 'Keyboard', 'pr': 1999, 'qn': 10},\n",
              " '1010': {'name': 'Pendrive', 'pr': 700, 'qn': 20}}"
            ]
          },
          "metadata": {},
          "execution_count": 23
        }
      ]
    },
    {
      "cell_type": "markdown",
      "metadata": {
        "id": "qSrbVPRhn7zS"
      },
      "source": [
        "# Adding new item to the inventory"
      ]
    },
    {
      "cell_type": "code",
      "metadata": {
        "colab": {
          "base_uri": "https://localhost:8080/"
        },
        "id": "sPSF1z00oDMK",
        "outputId": "d657c78a-77cd-4b2a-d237-96298cc9a373"
      },
      "source": [
        "prod_id = str(input(\"Enter product id:\"))\n",
        "name = str(input(\"Enter name:\"))\n",
        "pr = int(input(\"Enter price:\"))\n",
        "qn = int(input(\"Enter quantity:\"))\n",
        "\n",
        "record[prod_id] = {'name': name, 'pr': pr, 'qn': qn}\n",
        "\n",
        "js = json.dumps(record)\n",
        "\n",
        "fd = open(\"record.json\",'w')\n",
        "fd.write(js)\n",
        "fd.close()"
      ],
      "execution_count": 24,
      "outputs": [
        {
          "name": "stdout",
          "output_type": "stream",
          "text": [
            "Enter product id:1010\n",
            "Enter name:Mouse\n",
            "Enter price:1200\n",
            "Enter quantity:5\n"
          ]
        }
      ]
    },
    {
      "cell_type": "code",
      "metadata": {
        "colab": {
          "base_uri": "https://localhost:8080/"
        },
        "id": "1q5l9sckoDQd",
        "outputId": "c3fa3b04-221c-436b-f631-1878ac77125b"
      },
      "source": [
        "record"
      ],
      "execution_count": 25,
      "outputs": [
        {
          "output_type": "execute_result",
          "data": {
            "text/plain": [
              "{'1001': {'name': 'Choco Cake', 'pr': 100, 'qn': 34},\n",
              " '1002': {'name': 'Milk Cake', 'pr': 800, 'qn': 100},\n",
              " '1003': {'name': 'Drink', 'pr': 85, 'qn': 100},\n",
              " '1004': {'name': 'Candy', 'pr': 5, 'qn': 1000},\n",
              " '1005': {'name': 'Pen', 'pr': 20, 'qn': 100},\n",
              " '1006': {'name': 'Phone', 'pr': 50000, 'qn': 10},\n",
              " '1007': {'name': 'Mic', 'pr': 1500, 'qn': 0},\n",
              " '1008': {'name': 'Case', 'pr': 599, 'qn': 5},\n",
              " '1009': {'name': 'Keyboard', 'pr': 1999, 'qn': 10},\n",
              " '1010': {'name': 'Mouse', 'pr': 1200, 'qn': 5}}"
            ]
          },
          "metadata": {},
          "execution_count": 25
        }
      ]
    },
    {
      "cell_type": "markdown",
      "metadata": {
        "id": "Utcboxoeo4-t"
      },
      "source": [
        "### Now we have to increase the price and quantiy of our products"
      ]
    },
    {
      "cell_type": "code",
      "metadata": {
        "colab": {
          "base_uri": "https://localhost:8080/"
        },
        "id": "TWGq5OzVo3HV",
        "outputId": "2f6162e1-cbfb-4e2b-a58f-f04a6b3cfd59"
      },
      "source": [
        "# Updating the quantity of mouse\n",
        "\n",
        "ui_prod  = str(input(\"Enter the product_Id: \"))\n",
        "ui_quant = int(input(\"Enter the quantity: \"))\n",
        "\n",
        "\n",
        "print(\"Product: \", record[ui_prod]['name'])\n",
        "print(\"Price: \", record[ui_prod]['pr'])"
      ],
      "execution_count": 26,
      "outputs": [
        {
          "output_type": "stream",
          "name": "stdout",
          "text": [
            "Enter the product_Id: 1010\n",
            "Enter the quantity: 7\n",
            "Product:  Mouse\n",
            "Price:  1200\n"
          ]
        }
      ]
    },
    {
      "cell_type": "code",
      "metadata": {
        "id": "3lpsG4NcJWGe"
      },
      "source": [
        "record[ui_prod]['qn'] = record[ui_prod]['qn'] + ui_quant"
      ],
      "execution_count": 27,
      "outputs": []
    },
    {
      "cell_type": "code",
      "metadata": {
        "colab": {
          "base_uri": "https://localhost:8080/"
        },
        "id": "_5pNJrZgLNQD",
        "outputId": "316cc5d3-d79f-4ebb-b60e-6fdb34418caa"
      },
      "source": [
        "# Updating the price of Phone\n",
        "\n",
        "ui_prod  = str(input(\"Enter the product_Id: \"))\n",
        "ui_price = int(input(\"Enter the Price: \"))\n",
        "\n",
        "\n",
        "print(\"Product: \", record[ui_prod]['name'])\n",
        "print(\"Qunatity: \", record[ui_prod]['qn'])"
      ],
      "execution_count": 29,
      "outputs": [
        {
          "output_type": "stream",
          "name": "stdout",
          "text": [
            "Enter the product_Id: 1006\n",
            "Enter the Price: 48000\n",
            "Product:  Phone\n",
            "Qunatity:  10\n"
          ]
        }
      ]
    },
    {
      "cell_type": "code",
      "metadata": {
        "colab": {
          "base_uri": "https://localhost:8080/"
        },
        "id": "HJ7CPCcov-OW",
        "outputId": "d19d191f-056c-4a2a-f76b-19d85530628e"
      },
      "source": [
        "# Updated values in record\n",
        "record"
      ],
      "execution_count": 31,
      "outputs": [
        {
          "output_type": "execute_result",
          "data": {
            "text/plain": [
              "{'1001': {'name': 'Choco Cake', 'pr': 100, 'qn': 34},\n",
              " '1002': {'name': 'Milk Cake', 'pr': 800, 'qn': 100},\n",
              " '1003': {'name': 'Drink', 'pr': 85, 'qn': 100},\n",
              " '1004': {'name': 'Candy', 'pr': 5, 'qn': 1000},\n",
              " '1005': {'name': 'Pen', 'pr': 20, 'qn': 100},\n",
              " '1006': {'name': 'Phone', 'pr': 50000, 'qn': 10},\n",
              " '1007': {'name': 'Mic', 'pr': 1500, 'qn': 0},\n",
              " '1008': {'name': 'Case', 'pr': 599, 'qn': 5},\n",
              " '1009': {'name': 'Keyboard', 'pr': 1999, 'qn': 10},\n",
              " '1010': {'name': 'Mouse', 'pr': 1200, 'qn': 12}}"
            ]
          },
          "metadata": {},
          "execution_count": 31
        }
      ]
    },
    {
      "cell_type": "code",
      "metadata": {
        "id": "rJFkurh4MaP-"
      },
      "source": [
        "# Deleting the product"
      ],
      "execution_count": 32,
      "outputs": []
    },
    {
      "cell_type": "code",
      "metadata": {
        "id": "Da4qrklfMaSk"
      },
      "source": [
        "del record['1002']"
      ],
      "execution_count": 33,
      "outputs": []
    },
    {
      "cell_type": "code",
      "metadata": {
        "colab": {
          "base_uri": "https://localhost:8080/"
        },
        "id": "bJgqDnY0Mtc1",
        "outputId": "6eccf2fc-befb-4f3a-b80c-63f256135c5b"
      },
      "source": [
        "record"
      ],
      "execution_count": 34,
      "outputs": [
        {
          "output_type": "execute_result",
          "data": {
            "text/plain": [
              "{'1001': {'name': 'Choco Cake', 'pr': 100, 'qn': 34},\n",
              " '1003': {'name': 'Drink', 'pr': 85, 'qn': 100},\n",
              " '1004': {'name': 'Candy', 'pr': 5, 'qn': 1000},\n",
              " '1005': {'name': 'Pen', 'pr': 20, 'qn': 100},\n",
              " '1006': {'name': 'Phone', 'pr': 50000, 'qn': 10},\n",
              " '1007': {'name': 'Mic', 'pr': 1500, 'qn': 0},\n",
              " '1008': {'name': 'Case', 'pr': 599, 'qn': 5},\n",
              " '1009': {'name': 'Keyboard', 'pr': 1999, 'qn': 10},\n",
              " '1010': {'name': 'Mouse', 'pr': 1200, 'qn': 12}}"
            ]
          },
          "metadata": {},
          "execution_count": 34
        }
      ]
    },
    {
      "cell_type": "code",
      "metadata": {
        "id": "xjNh8vvNMtnM"
      },
      "source": [
        "# Final updated record, \n",
        "# Now we will use this record for purchasing products"
      ],
      "execution_count": 35,
      "outputs": []
    }
  ]
}